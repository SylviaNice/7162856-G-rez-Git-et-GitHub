{
  "cells": [
    {
      "cell_type": "markdown",
      "metadata": {
        "id": "reTCAA6A_Qui"
      },
      "source": [
        "![openclassrooms](https://s3.eu-west-1.amazonaws.com/course.oc-static.com/courses/6204541/1+HnqdJ-5ofxiPP9HIxdNdpw.jpeg)\n",
        "\n",
        "# Initiez-vous à Python pour l'analyse de données\n",
        "\n",
        "## Créez des tableaux pour stocker vos variables\n",
        "\n",
        "<br><br>\n",
        "\n",
        "**Une liste pour les gouverner tous**\n",
        "\n",
        "Déclarez une liste `couleurs` contenant 5 éléments : `rouge`, `jaune`, `orange`, `vert` et `bleu`."
      ]
    },
    {
      "cell_type": "code",
      "execution_count": 5,
      "metadata": {
        "colab": {
          "base_uri": "https://localhost:8080/"
        },
        "id": "ZjN5wwfm_Quk",
        "outputId": "fc67d850-bdfa-4a64-c793-8fc88505836c"
      },
      "outputs": [
        {
          "output_type": "stream",
          "name": "stdout",
          "text": [
            "['rouge', 'jaune', 'orange', 'vert', 'bleu']\n"
          ]
        }
      ],
      "source": [
        "couleurs = ['rouge', 'jaune', 'orange', 'vert', 'bleu']\n",
        "print(couleurs)"
      ]
    },
    {
      "cell_type": "markdown",
      "metadata": {
        "id": "v9dreh_3_Quk"
      },
      "source": [
        "Remplacez la couleur `vert` par `émeraude` :"
      ]
    },
    {
      "cell_type": "code",
      "execution_count": 7,
      "metadata": {
        "colab": {
          "base_uri": "https://localhost:8080/"
        },
        "id": "ovpaT_jz_Quk",
        "outputId": "9650681f-4a5b-4219-fefd-ec46537d607e"
      },
      "outputs": [
        {
          "output_type": "stream",
          "name": "stdout",
          "text": [
            "['rouge', 'jaune', 'orange', 'émeraude', 'bleu']\n"
          ]
        }
      ],
      "source": [
        "couleurs[3] = 'émeraude'\n",
        "print(couleurs)"
      ]
    },
    {
      "cell_type": "markdown",
      "metadata": {
        "id": "dnt726jg_Qul"
      },
      "source": [
        "Affichez le contenu de la liste :"
      ]
    },
    {
      "cell_type": "code",
      "execution_count": 8,
      "metadata": {
        "colab": {
          "base_uri": "https://localhost:8080/"
        },
        "id": "20h7enKH_Qul",
        "outputId": "b6c2a630-9571-4aa9-ba9f-8940dd8d203b"
      },
      "outputs": [
        {
          "output_type": "stream",
          "name": "stdout",
          "text": [
            "rouge\n",
            "jaune\n",
            "orange\n",
            "émeraude\n",
            "bleu\n"
          ]
        }
      ],
      "source": [
        "for couleur in couleurs :\n",
        "    print(couleur)"
      ]
    }
  ],
  "metadata": {
    "kernelspec": {
      "display_name": "Python 3",
      "language": "python",
      "name": "python3"
    },
    "language_info": {
      "codemirror_mode": {
        "name": "ipython",
        "version": 3
      },
      "file_extension": ".py",
      "mimetype": "text/x-python",
      "name": "python",
      "nbconvert_exporter": "python",
      "pygments_lexer": "ipython3",
      "version": "3.8.5"
    },
    "colab": {
      "provenance": []
    }
  },
  "nbformat": 4,
  "nbformat_minor": 0
}