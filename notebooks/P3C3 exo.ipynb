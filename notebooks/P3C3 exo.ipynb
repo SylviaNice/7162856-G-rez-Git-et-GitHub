{
  "cells": [
    {
      "cell_type": "markdown",
      "metadata": {
        "id": "Mjov31ViAoVa"
      },
      "source": [
        "![openclassrooms](https://s3.eu-west-1.amazonaws.com/course.oc-static.com/courses/6204541/1+HnqdJ-5ofxiPP9HIxdNdpw.jpeg)\n",
        "\n",
        "# Initiez-vous à Python pour l'analyse de données\n",
        "\n",
        "## Choisissez la boucle adéquate\n",
        "\n",
        "<br><br>\n",
        "\n",
        "**La boucle WHILE : “bouclez” selon une condition**\n",
        "\n",
        "Créez une boucle `for` qui va afficher : 'OpenClassRooms est vraiment top !' 5 fois"
      ]
    },
    {
      "cell_type": "code",
      "execution_count": 17,
      "metadata": {
        "id": "_0fxvSQjAoVc",
        "outputId": "6d21bd8f-78f6-408e-c122-6d7fd06d880d",
        "colab": {
          "base_uri": "https://localhost:8080/"
        }
      },
      "outputs": [
        {
          "output_type": "stream",
          "name": "stdout",
          "text": [
            "OpenClassRooms est vraiment top !\n",
            "OpenClassRooms est vraiment top !\n",
            "OpenClassRooms est vraiment top !\n",
            "OpenClassRooms est vraiment top !\n",
            "OpenClassRooms est vraiment top !\n"
          ]
        }
      ],
      "source": [
        "for i in range(5):\n",
        "    print('OpenClassRooms est vraiment top !')"
      ]
    },
    {
      "cell_type": "markdown",
      "metadata": {
        "id": "JN2eNgwhAoVd"
      },
      "source": [
        "Changez votre boucle `for` par une boucle `while` :"
      ]
    },
    {
      "cell_type": "code",
      "execution_count": 22,
      "metadata": {
        "id": "BPsKg9fcAoVd",
        "outputId": "1d09dcd1-0989-42f1-cd71-f42b88ffee9d",
        "colab": {
          "base_uri": "https://localhost:8080/"
        }
      },
      "outputs": [
        {
          "output_type": "stream",
          "name": "stdout",
          "text": [
            "OpenClassRooms est vraiment top !\n",
            "OpenClassRooms est vraiment top !\n",
            "OpenClassRooms est vraiment top !\n",
            "OpenClassRooms est vraiment top !\n",
            "OpenClassRooms est vraiment top !\n"
          ]
        }
      ],
      "source": [
        "range = 0\n",
        "\n",
        "while range < 5:\n",
        "  range += 1\n",
        "  print('OpenClassRooms est vraiment top !')"
      ]
    }
  ],
  "metadata": {
    "kernelspec": {
      "display_name": "Python 3",
      "language": "python",
      "name": "python3"
    },
    "language_info": {
      "codemirror_mode": {
        "name": "ipython",
        "version": 3
      },
      "file_extension": ".py",
      "mimetype": "text/x-python",
      "name": "python",
      "nbconvert_exporter": "python",
      "pygments_lexer": "ipython3",
      "version": "3.8.5"
    },
    "colab": {
      "provenance": []
    }
  },
  "nbformat": 4,
  "nbformat_minor": 0
}