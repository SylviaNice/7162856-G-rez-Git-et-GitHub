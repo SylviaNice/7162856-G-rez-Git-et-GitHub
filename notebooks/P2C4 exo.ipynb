{
  "cells": [
    {
      "cell_type": "markdown",
      "metadata": {
        "id": "3xNYd22rMXQO"
      },
      "source": [
        "![openclassrooms](https://s3.eu-west-1.amazonaws.com/course.oc-static.com/courses/6204541/1+HnqdJ-5ofxiPP9HIxdNdpw.jpeg)\n",
        "\n",
        "# Initiez-vous à Python pour l'analyse de données\n",
        "\n",
        "## Programmez en orienté objet\n",
        "\n",
        "<br><br>\n",
        "\n",
        "**Les méthodes de chaines de caractères**\n",
        "\n",
        "Soit la variable `maPhrase` suivante :"
      ]
    },
    {
      "cell_type": "code",
      "execution_count": 3,
      "metadata": {
        "id": "npFF74StMXQQ",
        "outputId": "259d5da1-66a3-499d-8424-fcbaa078ff89",
        "colab": {
          "base_uri": "https://localhost:8080/"
        }
      },
      "outputs": [
        {
          "output_type": "stream",
          "name": "stdout",
          "text": [
            "je suis enerve !!\n"
          ]
        }
      ],
      "source": [
        "maPhrase = 'JE SUIS ENERVE !!'\n",
        "print(maPhrase.lower())"
      ]
    },
    {
      "cell_type": "markdown",
      "metadata": {
        "id": "gpVAk1RdMXQR"
      },
      "source": [
        "Utilisez une méthode de chaines de caractères pour transformer la variable `maPhrase`  en minuscule :"
      ]
    },
    {
      "cell_type": "code",
      "execution_count": null,
      "metadata": {
        "id": "olbXfTFeMXQR"
      },
      "outputs": [],
      "source": []
    },
    {
      "cell_type": "markdown",
      "metadata": {
        "id": "T_E5MfcXMXQR"
      },
      "source": [
        "Remplacez les **...** par une ligne permettant, à partir de la variable maPhrase d'afficher : `je suis calme !!`"
      ]
    },
    {
      "cell_type": "code",
      "execution_count": 6,
      "metadata": {
        "id": "9Pr77RzHMXQR",
        "outputId": "3446b6f6-97aa-4a88-e03b-c6bb445afefe",
        "colab": {
          "base_uri": "https://localhost:8080/"
        }
      },
      "outputs": [
        {
          "output_type": "stream",
          "name": "stdout",
          "text": [
            "je suis enerve !!\n",
            "Je suis enerve !!\n"
          ]
        }
      ],
      "source": [
        "print(maPhrase.lower())\n",
        "print(maPhrase.capitalize())"
      ]
    }
  ],
  "metadata": {
    "kernelspec": {
      "display_name": "Python 3",
      "language": "python",
      "name": "python3"
    },
    "language_info": {
      "codemirror_mode": {
        "name": "ipython",
        "version": 3
      },
      "file_extension": ".py",
      "mimetype": "text/x-python",
      "name": "python",
      "nbconvert_exporter": "python",
      "pygments_lexer": "ipython3",
      "version": "3.8.5"
    },
    "colab": {
      "provenance": []
    }
  },
  "nbformat": 4,
  "nbformat_minor": 0
}