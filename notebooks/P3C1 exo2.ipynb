{
  "cells": [
    {
      "cell_type": "markdown",
      "metadata": {
        "id": "j9bRsaOnGKoA"
      },
      "source": [
        "![openclassrooms](https://s3.eu-west-1.amazonaws.com/course.oc-static.com/courses/6204541/1+HnqdJ-5ofxiPP9HIxdNdpw.jpeg)\n",
        "\n",
        "# Initiez-vous à Python pour l'analyse de données\n",
        "\n",
        "## Créez des tableaux pour stocker vos variables\n",
        "\n",
        "<br><br>\n",
        "\n",
        "**Ajouter des éléments à une liste**\n",
        "\n",
        "Remplacez les **??** par le code adéquat pour créer une liste vide :"
      ]
    },
    {
      "cell_type": "code",
      "execution_count": 13,
      "metadata": {
        "id": "k-rWUhpBGKoE",
        "outputId": "5193c1d1-500e-421c-bd8b-6d59cfb4acb1",
        "colab": {
          "base_uri": "https://localhost:8080/"
        }
      },
      "outputs": [
        {
          "output_type": "stream",
          "name": "stdout",
          "text": [
            "[]\n"
          ]
        }
      ],
      "source": [
        "invites = []\n",
        "print(invites)"
      ]
    },
    {
      "cell_type": "markdown",
      "metadata": {
        "id": "mEeHm9HlGKoF"
      },
      "source": [
        "Ajoutez 3 invités à la liste : Joey, Martin et Marie"
      ]
    },
    {
      "cell_type": "code",
      "execution_count": 14,
      "metadata": {
        "id": "rdpY4uXnGKoG",
        "outputId": "35e8d1be-d8d9-4c56-f895-166265d4582a",
        "colab": {
          "base_uri": "https://localhost:8080/"
        }
      },
      "outputs": [
        {
          "output_type": "stream",
          "name": "stdout",
          "text": [
            "['Joey', 'Martin', 'Marie']\n"
          ]
        }
      ],
      "source": [
        "invites.append(\"Joey\")\n",
        "invites.append(\"Martin\")\n",
        "invites.append(\"Marie\")\n",
        "print(invites)"
      ]
    },
    {
      "cell_type": "markdown",
      "metadata": {
        "id": "t369wulAGKoG"
      },
      "source": [
        "Affichez la taille de la liste :"
      ]
    },
    {
      "cell_type": "code",
      "execution_count": 15,
      "metadata": {
        "id": "zUJ0YFLVGKoG",
        "outputId": "a3cd1af3-c95a-47b2-a1f4-eb7b7e12a75d",
        "colab": {
          "base_uri": "https://localhost:8080/"
        }
      },
      "outputs": [
        {
          "output_type": "execute_result",
          "data": {
            "text/plain": [
              "3"
            ]
          },
          "metadata": {},
          "execution_count": 15
        }
      ],
      "source": [
        "len(invites)"
      ]
    },
    {
      "cell_type": "markdown",
      "metadata": {
        "id": "I_sfQE0hGKoG"
      },
      "source": [
        "Remplacez Martin par John dans la liste :"
      ]
    },
    {
      "cell_type": "code",
      "execution_count": 16,
      "metadata": {
        "id": "tgP7yx67GKoG",
        "outputId": "c70fb80d-3d1b-413c-b5dd-f6f4e5b895da",
        "colab": {
          "base_uri": "https://localhost:8080/"
        }
      },
      "outputs": [
        {
          "output_type": "stream",
          "name": "stdout",
          "text": [
            "['Joey', 'John', 'Marie']\n"
          ]
        }
      ],
      "source": [
        "invites[1] = \"John\"\n",
        "print(invites)"
      ]
    },
    {
      "cell_type": "markdown",
      "metadata": {
        "id": "L-D-rYR7GKoG"
      },
      "source": [
        "Supprimez Joey de la liste :"
      ]
    },
    {
      "cell_type": "code",
      "execution_count": 18,
      "metadata": {
        "id": "e-MrDID0GKoG",
        "outputId": "627525eb-0b16-47ac-e961-ca545c06d218",
        "colab": {
          "base_uri": "https://localhost:8080/"
        }
      },
      "outputs": [
        {
          "output_type": "stream",
          "name": "stdout",
          "text": [
            "['John', 'Marie']\n"
          ]
        }
      ],
      "source": [
        "del(invites)[0]\n",
        "print(invites)"
      ]
    },
    {
      "cell_type": "markdown",
      "metadata": {
        "id": "Kgkz3-qNGKoH"
      },
      "source": [
        "Affichez le contenu de la liste :"
      ]
    },
    {
      "cell_type": "code",
      "execution_count": 19,
      "metadata": {
        "id": "bM521iy6GKoH",
        "outputId": "8c752a9f-3787-4169-fd4c-cb36c289ce69",
        "colab": {
          "base_uri": "https://localhost:8080/"
        }
      },
      "outputs": [
        {
          "output_type": "stream",
          "name": "stdout",
          "text": [
            "John\n",
            "Marie\n"
          ]
        }
      ],
      "source": [
        "for invite in invites :\n",
        "    print(invite)"
      ]
    }
  ],
  "metadata": {
    "kernelspec": {
      "display_name": "Python 3",
      "language": "python",
      "name": "python3"
    },
    "language_info": {
      "codemirror_mode": {
        "name": "ipython",
        "version": 3
      },
      "file_extension": ".py",
      "mimetype": "text/x-python",
      "name": "python",
      "nbconvert_exporter": "python",
      "pygments_lexer": "ipython3",
      "version": "3.8.5"
    },
    "colab": {
      "provenance": []
    }
  },
  "nbformat": 4,
  "nbformat_minor": 0
}