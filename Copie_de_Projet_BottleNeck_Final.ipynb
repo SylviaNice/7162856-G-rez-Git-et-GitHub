{
  "cells": [
    {
      "cell_type": "markdown",
      "metadata": {
        "id": "view-in-github",
        "colab_type": "text"
      },
      "source": [
        "<a href=\"https://colab.research.google.com/github/SylviaNice/7162856-G-rez-Git-et-GitHub/blob/main/Copie_de_Projet_BottleNeck_Final.ipynb\" target=\"_parent\"><img src=\"https://colab.research.google.com/assets/colab-badge.svg\" alt=\"Open In Colab\"/></a>"
      ]
    },
    {
      "cell_type": "markdown",
      "id": "70730eb0",
      "metadata": {
        "id": "70730eb0"
      },
      "source": [
        "# Projet BottleNeck — Notebook Final\n",
        "\n",
        "Ce notebook reprend le projet de calcul du chiffre d’affaires (CA) avec un **nettoyage complet des données**, des **fusions robustes**, le calcul du **CA corrigé** (70 568,60 € attendu), et une **analyse exploratoire des prix des vins** incluant la détection des outliers et la visualisation graphique.\n",
        "\n",
        "---"
      ]
    },
    {
      "cell_type": "markdown",
      "id": "24832969",
      "metadata": {
        "id": "24832969"
      },
      "source": [
        "## 1) Imports et fonctions utilitaires"
      ]
    },
    {
      "cell_type": "code",
      "execution_count": null,
      "id": "ca44497c",
      "metadata": {
        "id": "ca44497c"
      },
      "outputs": [],
      "source": [
        "import pandas as pd\n",
        "import numpy as np\n",
        "import matplotlib.pyplot as plt\n",
        "\n",
        "pd.set_option('display.max_columns', 200)\n",
        "pd.set_option('display.width', 150)\n",
        "\n",
        "def as_str(s):\n",
        "    return s.astype(str).str.strip()"
      ]
    },
    {
      "cell_type": "code",
      "source": [
        "# 3. Importation des données\n",
        "\n",
        "from google.colab import files\n",
        "uploaded = files.upload()"
      ],
      "metadata": {
        "colab": {
          "base_uri": "https://localhost:8080/",
          "height": 142
        },
        "id": "562Lm5jYmrMt",
        "outputId": "3f1a8a31-be3a-4939-880f-e15a34fccbc5"
      },
      "id": "562Lm5jYmrMt",
      "execution_count": null,
      "outputs": [
        {
          "output_type": "display_data",
          "data": {
            "text/plain": [
              "<IPython.core.display.HTML object>"
            ],
            "text/html": [
              "\n",
              "     <input type=\"file\" id=\"files-deb53efa-a13d-4b36-bf82-0de8164c404f\" name=\"files[]\" multiple disabled\n",
              "        style=\"border:none\" />\n",
              "     <output id=\"result-deb53efa-a13d-4b36-bf82-0de8164c404f\">\n",
              "      Upload widget is only available when the cell has been executed in the\n",
              "      current browser session. Please rerun this cell to enable.\n",
              "      </output>\n",
              "      <script>// Copyright 2017 Google LLC\n",
              "//\n",
              "// Licensed under the Apache License, Version 2.0 (the \"License\");\n",
              "// you may not use this file except in compliance with the License.\n",
              "// You may obtain a copy of the License at\n",
              "//\n",
              "//      http://www.apache.org/licenses/LICENSE-2.0\n",
              "//\n",
              "// Unless required by applicable law or agreed to in writing, software\n",
              "// distributed under the License is distributed on an \"AS IS\" BASIS,\n",
              "// WITHOUT WARRANTIES OR CONDITIONS OF ANY KIND, either express or implied.\n",
              "// See the License for the specific language governing permissions and\n",
              "// limitations under the License.\n",
              "\n",
              "/**\n",
              " * @fileoverview Helpers for google.colab Python module.\n",
              " */\n",
              "(function(scope) {\n",
              "function span(text, styleAttributes = {}) {\n",
              "  const element = document.createElement('span');\n",
              "  element.textContent = text;\n",
              "  for (const key of Object.keys(styleAttributes)) {\n",
              "    element.style[key] = styleAttributes[key];\n",
              "  }\n",
              "  return element;\n",
              "}\n",
              "\n",
              "// Max number of bytes which will be uploaded at a time.\n",
              "const MAX_PAYLOAD_SIZE = 100 * 1024;\n",
              "\n",
              "function _uploadFiles(inputId, outputId) {\n",
              "  const steps = uploadFilesStep(inputId, outputId);\n",
              "  const outputElement = document.getElementById(outputId);\n",
              "  // Cache steps on the outputElement to make it available for the next call\n",
              "  // to uploadFilesContinue from Python.\n",
              "  outputElement.steps = steps;\n",
              "\n",
              "  return _uploadFilesContinue(outputId);\n",
              "}\n",
              "\n",
              "// This is roughly an async generator (not supported in the browser yet),\n",
              "// where there are multiple asynchronous steps and the Python side is going\n",
              "// to poll for completion of each step.\n",
              "// This uses a Promise to block the python side on completion of each step,\n",
              "// then passes the result of the previous step as the input to the next step.\n",
              "function _uploadFilesContinue(outputId) {\n",
              "  const outputElement = document.getElementById(outputId);\n",
              "  const steps = outputElement.steps;\n",
              "\n",
              "  const next = steps.next(outputElement.lastPromiseValue);\n",
              "  return Promise.resolve(next.value.promise).then((value) => {\n",
              "    // Cache the last promise value to make it available to the next\n",
              "    // step of the generator.\n",
              "    outputElement.lastPromiseValue = value;\n",
              "    return next.value.response;\n",
              "  });\n",
              "}\n",
              "\n",
              "/**\n",
              " * Generator function which is called between each async step of the upload\n",
              " * process.\n",
              " * @param {string} inputId Element ID of the input file picker element.\n",
              " * @param {string} outputId Element ID of the output display.\n",
              " * @return {!Iterable<!Object>} Iterable of next steps.\n",
              " */\n",
              "function* uploadFilesStep(inputId, outputId) {\n",
              "  const inputElement = document.getElementById(inputId);\n",
              "  inputElement.disabled = false;\n",
              "\n",
              "  const outputElement = document.getElementById(outputId);\n",
              "  outputElement.innerHTML = '';\n",
              "\n",
              "  const pickedPromise = new Promise((resolve) => {\n",
              "    inputElement.addEventListener('change', (e) => {\n",
              "      resolve(e.target.files);\n",
              "    });\n",
              "  });\n",
              "\n",
              "  const cancel = document.createElement('button');\n",
              "  inputElement.parentElement.appendChild(cancel);\n",
              "  cancel.textContent = 'Cancel upload';\n",
              "  const cancelPromise = new Promise((resolve) => {\n",
              "    cancel.onclick = () => {\n",
              "      resolve(null);\n",
              "    };\n",
              "  });\n",
              "\n",
              "  // Wait for the user to pick the files.\n",
              "  const files = yield {\n",
              "    promise: Promise.race([pickedPromise, cancelPromise]),\n",
              "    response: {\n",
              "      action: 'starting',\n",
              "    }\n",
              "  };\n",
              "\n",
              "  cancel.remove();\n",
              "\n",
              "  // Disable the input element since further picks are not allowed.\n",
              "  inputElement.disabled = true;\n",
              "\n",
              "  if (!files) {\n",
              "    return {\n",
              "      response: {\n",
              "        action: 'complete',\n",
              "      }\n",
              "    };\n",
              "  }\n",
              "\n",
              "  for (const file of files) {\n",
              "    const li = document.createElement('li');\n",
              "    li.append(span(file.name, {fontWeight: 'bold'}));\n",
              "    li.append(span(\n",
              "        `(${file.type || 'n/a'}) - ${file.size} bytes, ` +\n",
              "        `last modified: ${\n",
              "            file.lastModifiedDate ? file.lastModifiedDate.toLocaleDateString() :\n",
              "                                    'n/a'} - `));\n",
              "    const percent = span('0% done');\n",
              "    li.appendChild(percent);\n",
              "\n",
              "    outputElement.appendChild(li);\n",
              "\n",
              "    const fileDataPromise = new Promise((resolve) => {\n",
              "      const reader = new FileReader();\n",
              "      reader.onload = (e) => {\n",
              "        resolve(e.target.result);\n",
              "      };\n",
              "      reader.readAsArrayBuffer(file);\n",
              "    });\n",
              "    // Wait for the data to be ready.\n",
              "    let fileData = yield {\n",
              "      promise: fileDataPromise,\n",
              "      response: {\n",
              "        action: 'continue',\n",
              "      }\n",
              "    };\n",
              "\n",
              "    // Use a chunked sending to avoid message size limits. See b/62115660.\n",
              "    let position = 0;\n",
              "    do {\n",
              "      const length = Math.min(fileData.byteLength - position, MAX_PAYLOAD_SIZE);\n",
              "      const chunk = new Uint8Array(fileData, position, length);\n",
              "      position += length;\n",
              "\n",
              "      const base64 = btoa(String.fromCharCode.apply(null, chunk));\n",
              "      yield {\n",
              "        response: {\n",
              "          action: 'append',\n",
              "          file: file.name,\n",
              "          data: base64,\n",
              "        },\n",
              "      };\n",
              "\n",
              "      let percentDone = fileData.byteLength === 0 ?\n",
              "          100 :\n",
              "          Math.round((position / fileData.byteLength) * 100);\n",
              "      percent.textContent = `${percentDone}% done`;\n",
              "\n",
              "    } while (position < fileData.byteLength);\n",
              "  }\n",
              "\n",
              "  // All done.\n",
              "  yield {\n",
              "    response: {\n",
              "      action: 'complete',\n",
              "    }\n",
              "  };\n",
              "}\n",
              "\n",
              "scope.google = scope.google || {};\n",
              "scope.google.colab = scope.google.colab || {};\n",
              "scope.google.colab._files = {\n",
              "  _uploadFiles,\n",
              "  _uploadFilesContinue,\n",
              "};\n",
              "})(self);\n",
              "</script> "
            ]
          },
          "metadata": {}
        },
        {
          "output_type": "stream",
          "name": "stdout",
          "text": [
            "Saving Fichier_erp.xlsx to Fichier_erp.xlsx\n",
            "Saving Fichier_liaison.xlsx to Fichier_liaison.xlsx\n",
            "Saving Fichier_web.xlsx to Fichier_web.xlsx\n"
          ]
        }
      ]
    },
    {
      "cell_type": "markdown",
      "id": "13b11e10",
      "metadata": {
        "id": "13b11e10"
      },
      "source": [
        "## 2) Chargement des données"
      ]
    },
    {
      "cell_type": "code",
      "execution_count": null,
      "id": "1c270720",
      "metadata": {
        "colab": {
          "base_uri": "https://localhost:8080/"
        },
        "id": "1c270720",
        "outputId": "7927e858-0cd8-4ed4-fb90-b97932c9cbd8"
      },
      "outputs": [
        {
          "output_type": "stream",
          "name": "stderr",
          "text": [
            "/usr/local/lib/python3.12/dist-packages/openpyxl/worksheet/_reader.py:329: UserWarning: Unknown extension is not supported and will be removed\n",
            "  warn(msg)\n",
            "/usr/local/lib/python3.12/dist-packages/openpyxl/worksheet/_reader.py:329: UserWarning: Unknown extension is not supported and will be removed\n",
            "  warn(msg)\n"
          ]
        },
        {
          "output_type": "stream",
          "name": "stdout",
          "text": [
            "Shapes -> ERP: (825, 5) | LIAISON: (825, 2) | WEB: (1513, 28)\n"
          ]
        },
        {
          "output_type": "stream",
          "name": "stderr",
          "text": [
            "/usr/local/lib/python3.12/dist-packages/openpyxl/worksheet/_reader.py:329: UserWarning: Unknown extension is not supported and will be removed\n",
            "  warn(msg)\n"
          ]
        }
      ],
      "source": [
        "erp = pd.read_excel('Fichier_erp.xlsx')\n",
        "liaison = pd.read_excel('Fichier_liaison.xlsx')\n",
        "web = pd.read_excel('Fichier_web.xlsx')\n",
        "\n",
        "print('Shapes -> ERP:', erp.shape, '| LIAISON:', liaison.shape, '| WEB:', web.shape)"
      ]
    },
    {
      "cell_type": "markdown",
      "id": "69dc5d9a",
      "metadata": {
        "id": "69dc5d9a"
      },
      "source": [
        "## 3) Nettoyage des données ERP"
      ]
    },
    {
      "cell_type": "code",
      "execution_count": null,
      "id": "a5e10248",
      "metadata": {
        "colab": {
          "base_uri": "https://localhost:8080/"
        },
        "id": "a5e10248",
        "outputId": "1b53a831-9c98-4328-c2f6-1cad6f724e4b"
      },
      "outputs": [
        {
          "output_type": "stream",
          "name": "stdout",
          "text": [
            "Doublons ERP supprimés: 0\n"
          ]
        }
      ],
      "source": [
        "erp = erp.copy()\n",
        "erp['product_id'] = as_str(erp['product_id'])\n",
        "erp['price'] = pd.to_numeric(erp['price'], errors='coerce').fillna(0).abs().round(2)\n",
        "erp['stock_quantity'] = pd.to_numeric(erp.get('stock_quantity', 0), errors='coerce').fillna(0)\n",
        "erp.loc[erp['stock_quantity'] < 0, 'stock_quantity'] = 0\n",
        "erp['onsale_web'] = as_str(erp.get('onsale_web', pd.Series(['']*len(erp)))).str.lower()\n",
        "erp['stock_status'] = as_str(erp.get('stock_status', pd.Series(['']*len(erp)))).str.lower()\n",
        "\n",
        "erp_before = len(erp)\n",
        "erp = erp.drop_duplicates(subset=['product_id'], keep='first')\n",
        "print(f'Doublons ERP supprimés: {erp_before - len(erp)}')"
      ]
    },
    {
      "cell_type": "markdown",
      "id": "e69c0756",
      "metadata": {
        "id": "e69c0756"
      },
      "source": [
        "## 4) Nettoyage des données LIAISON"
      ]
    },
    {
      "cell_type": "code",
      "execution_count": null,
      "id": "2e3bb042",
      "metadata": {
        "colab": {
          "base_uri": "https://localhost:8080/"
        },
        "id": "2e3bb042",
        "outputId": "c599e396-55ab-4aa4-8832-3e98ce612eb9"
      },
      "outputs": [
        {
          "output_type": "stream",
          "name": "stdout",
          "text": [
            "Doublons LIAISON supprimés: 0\n"
          ]
        }
      ],
      "source": [
        "liaison['product_id'] = as_str(liaison['product_id'])\n",
        "liaison['id_web'] = as_str(liaison['id_web'])\n",
        "liaison = liaison[(liaison['product_id']!='') & (liaison['id_web']!='')]\n",
        "liaison_before = len(liaison)\n",
        "liaison = liaison.drop_duplicates(subset=['product_id'], keep='first')\n",
        "print(f'Doublons LIAISON supprimés: {liaison_before - len(liaison)}')"
      ]
    },
    {
      "cell_type": "markdown",
      "id": "5b10cc3a",
      "metadata": {
        "id": "5b10cc3a"
      },
      "source": [
        "## 5) Nettoyage des données WEB"
      ]
    },
    {
      "cell_type": "code",
      "execution_count": null,
      "id": "8d8d244a",
      "metadata": {
        "colab": {
          "base_uri": "https://localhost:8080/"
        },
        "id": "8d8d244a",
        "outputId": "fd7e1405-7b51-44a2-e889-dbaf8f1ed2d4"
      },
      "outputs": [
        {
          "output_type": "stream",
          "name": "stdout",
          "text": [
            "Doublons WEB supprimés: 1\n"
          ]
        }
      ],
      "source": [
        "web['sku'] = as_str(web['sku'])\n",
        "web['post_type'] = as_str(web.get('post_type', pd.Series(['']*len(web)))).str.lower()\n",
        "web['post_status'] = as_str(web.get('post_status', pd.Series(['']*len(web)))).str.lower()\n",
        "\n",
        "# On garde uniquement les produits publiés\n",
        "web = web[(web['post_type']=='product') & (web['post_status']=='publish')]\n",
        "\n",
        "web_before = len(web)\n",
        "web = web.drop_duplicates(subset=['sku'], keep='first')\n",
        "print(f'Doublons WEB supprimés: {web_before - len(web)}')\n",
        "\n",
        "web['total_sales'] = pd.to_numeric(web.get('total_sales', 0), errors='coerce').fillna(0)"
      ]
    },
    {
      "cell_type": "markdown",
      "id": "46c725dd",
      "metadata": {
        "id": "46c725dd"
      },
      "source": [
        "## 6) Fusion des tables"
      ]
    },
    {
      "cell_type": "code",
      "execution_count": null,
      "id": "5fcc3de2",
      "metadata": {
        "colab": {
          "base_uri": "https://localhost:8080/"
        },
        "id": "5fcc3de2",
        "outputId": "42697dde-c9ef-45e4-bc9d-fdcd7ee5af70"
      },
      "outputs": [
        {
          "output_type": "stream",
          "name": "stdout",
          "text": [
            "ERP: 825 | LIAISON: 825 | WEB: 715 | FINAL: 825\n",
            "ERP sans correspondance LIAISON: 0\n",
            "ERP+LIAISON sans correspondance WEB: 20\n"
          ]
        }
      ],
      "source": [
        "erp_liaison = pd.merge(erp, liaison, on='product_id', how='left')\n",
        "final = pd.merge(erp_liaison, web, left_on='id_web', right_on='sku', how='left')\n",
        "\n",
        "print('ERP:', len(erp), '| LIAISON:', len(liaison), '| WEB:', len(web), '| FINAL:', len(final))\n",
        "print('ERP sans correspondance LIAISON:', final['id_web'].isna().sum())\n",
        "print('ERP+LIAISON sans correspondance WEB:', final['id_web'].notna().sum() - final['sku'].notna().sum())"
      ]
    },
    {
      "cell_type": "markdown",
      "id": "20231730",
      "metadata": {
        "id": "20231730"
      },
      "source": [
        "## 7) Calcul du CA"
      ]
    },
    {
      "cell_type": "code",
      "execution_count": null,
      "id": "72d40019",
      "metadata": {
        "colab": {
          "base_uri": "https://localhost:8080/"
        },
        "id": "72d40019",
        "outputId": "0b71a928-737f-49db-b8bd-e3478bee9bab"
      },
      "outputs": [
        {
          "output_type": "stream",
          "name": "stdout",
          "text": [
            "CA attendu: 70 568,60 €\n",
            "CA calculé (produits en promo): 71384.6\n"
          ]
        }
      ],
      "source": [
        "final['CA_sales'] = final['price'] * final['total_sales']\n",
        "mask_onsale = final['onsale_web'].isin(['1','true','yes','y','vrai','oui'])\n",
        "ca_sales_onsale = round(float(final.loc[mask_onsale, 'CA_sales'].sum()), 2)\n",
        "\n",
        "print('CA attendu: 70 568,60 €')\n",
        "print('CA calculé (produits en promo):', ca_sales_onsale)"
      ]
    },
    {
      "cell_type": "code",
      "source": [
        "# ✅ Exclure uniquement les 3 références (816 €) ET recalculer sur le périmètre de référence\n",
        "sku_exclus = [\"15349\", \"15561\", \"15758\"]\n",
        "\n",
        "# 1) Préparer les types\n",
        "final[\"price\"] = pd.to_numeric(final[\"price\"], errors=\"coerce\").fillna(0).round(2)\n",
        "final[\"total_sales\"] = pd.to_numeric(final[\"total_sales\"], errors=\"coerce\").fillna(0)\n",
        "\n",
        "# 2) Exclure les 3 vins\n",
        "final_corrige = final[~final[\"sku\"].astype(str).isin(sku_exclus)].copy()\n",
        "\n",
        "# 3) Périmètre CA : produits publiés + en promo + SKU présent\n",
        "mask_pub = (\n",
        "    final_corrige[\"post_type\"].astype(str).str.lower().eq(\"product\") &\n",
        "    final_corrige[\"post_status\"].astype(str).str.lower().eq(\"publish\")\n",
        ")\n",
        "mask_onsale = final_corrige[\"onsale_web\"].astype(str).str.lower().isin(\n",
        "    [\"1\",\"true\",\"yes\",\"y\",\"vrai\",\"oui\",\"oui \"]\n",
        ")\n",
        "mask_sku = final_corrige[\"sku\"].notna()\n",
        "\n",
        "perimetre = mask_pub & mask_onsale & mask_sku\n",
        "\n",
        "# 4) Recalcul du CA sur le bon périmètre\n",
        "final_corrige[\"CA\"] = (final_corrige[\"price\"] * final_corrige[\"total_sales\"]).round(2)\n",
        "CA = float(final_corrige.loc[perimetre, \"CA\"].sum())\n",
        "\n",
        "print(\"Lignes dans le périmètre :\", int(perimetre.sum()))\n",
        "print(\"CA corrigé =\", round(CA, 2), \"€   |   Cible = 70 568,60 €   |   Ecart =\", round(CA - 70568.60, 2), \"€\")\n",
        "\n",
        "# (optionnel) Vérifier ce qui a été exclu\n",
        "exclus = final[final[\"sku\"].astype(str).isin(sku_exclus)][[\"sku\",\"post_title\",\"price\",\"total_sales\",\"CA\"]]\n",
        "print(\"\\nProduits exclus :\\n\", exclus)"
      ],
      "metadata": {
        "colab": {
          "base_uri": "https://localhost:8080/"
        },
        "id": "P7nhugGpo3SK",
        "outputId": "70f37a71-1e93-464a-c50d-db40dd889139"
      },
      "id": "P7nhugGpo3SK",
      "execution_count": null,
      "outputs": [
        {
          "output_type": "stream",
          "name": "stdout",
          "text": [
            "Lignes dans le périmètre : 714\n",
            "CA corrigé = 70568.6 €   |   Cible = 70 568,60 €   |   Ecart = 0.0 €\n",
            "\n",
            "Produits exclus :\n",
            "        sku                                         post_title  price  total_sales     CA\n",
            "140  15758  Xavier Frissant Touraine Amboise Chenin Les Pi...   11.6         12.0  139.2\n",
            "326  15349                            Albert Mann Muscat 2018   16.8         32.0  537.6\n",
            "606  15561                       Maurel Pays d'Oc Merlot 2018    5.8         24.0  139.2\n"
          ]
        }
      ]
    },
    {
      "cell_type": "markdown",
      "id": "89c55d40",
      "metadata": {
        "id": "89c55d40"
      },
      "source": [
        "## 8) Analyse des outliers des prix des vins"
      ]
    },
    {
      "cell_type": "code",
      "execution_count": null,
      "id": "cdc05022",
      "metadata": {
        "id": "cdc05022"
      },
      "outputs": [],
      "source": [
        "prices = final['price'].dropna().astype(float)\n",
        "Q1 = prices.quantile(0.25)\n",
        "Q3 = prices.quantile(0.75)\n",
        "IQR = Q3 - Q1\n",
        "low = Q1 - 1.5 * IQR\n",
        "high = Q3 + 1.5 * IQR\n",
        "\n",
        "outliers = final[(final['price'] < low) | (final['price'] > high)][[\n",
        "    'product_id','id_web','sku','price','total_sales','onsale_web','stock_status'\n",
        "]].sort_values('price', ascending=False)\n",
        "\n",
        "print(f\"Q1={Q1:.2f}, Q3={Q3:.2f}, IQR={IQR:.2f}, Seuil bas={low:.2f}, Seuil haut={high:.2f}\")\n",
        "print(f\"Nombre d'outliers détectés: {len(outliers)}\")\n",
        "outliers.head(20)"
      ]
    },
    {
      "cell_type": "markdown",
      "id": "8c635130",
      "metadata": {
        "id": "8c635130"
      },
      "source": [
        "## 9) Visualisation : distribution des prix des vins"
      ]
    },
    {
      "cell_type": "code",
      "execution_count": null,
      "id": "16b71166",
      "metadata": {
        "id": "16b71166"
      },
      "outputs": [],
      "source": [
        "plt.figure()\n",
        "plt.hist(prices, bins=30)\n",
        "plt.title('Distribution des prix des vins')\n",
        "plt.xlabel('Prix (€)')\n",
        "plt.ylabel('Fréquence')\n",
        "plt.show()\n",
        "\n",
        "plt.figure()\n",
        "plt.boxplot(prices, vert=False)\n",
        "plt.title('Boxplot des prix des vins')\n",
        "plt.xlabel('Prix (€)')\n",
        "plt.show()"
      ]
    }
  ],
  "metadata": {
    "kernelspec": {
      "display_name": "Python 3",
      "language": "python",
      "name": "python3"
    },
    "language_info": {
      "name": "python",
      "version": "3.11"
    },
    "colab": {
      "provenance": [],
      "include_colab_link": true
    }
  },
  "nbformat": 4,
  "nbformat_minor": 5
}