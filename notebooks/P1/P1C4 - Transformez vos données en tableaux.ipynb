{
  "cells": [
    {
      "cell_type": "markdown",
      "id": "79768348",
      "metadata": {
        "id": "79768348"
      },
      "source": [
        "![openclassrooms](https://s3.eu-west-1.amazonaws.com/course.oc-static.com/courses/6204541/1+HnqdJ-5ofxiPP9HIxdNdpw.jpeg)\n",
        "\n",
        "# Transformez vos données en tableaux\n",
        "\n",
        "Pour cette seconde tâche, nous travaillons toujours sur les mêmes 10 clients, mais nous avons cette fois trois informations à disposition sur chacun d’eux :\n",
        "- le revenu mensuel\n",
        "- l'âge du client\n",
        "- le nombre d’enfants à charge\n",
        "\n",
        "L’objectif va être de créer un tableau NumPy à partir de ces informations et de répondre aux différentes demandes formulées par notre service prêt en manipulant ce tableau avec les différentes techniques présentées tout au long de ce chapitre."
      ]
    },
    {
      "cell_type": "code",
      "execution_count": null,
      "id": "87ad096c",
      "metadata": {
        "id": "87ad096c"
      },
      "outputs": [],
      "source": [
        "import numpy as np"
      ]
    },
    {
      "cell_type": "markdown",
      "id": "0c6779de",
      "metadata": {
        "id": "0c6779de"
      },
      "source": [
        "L'ensemble des ces informations sont rassemblées dans la liste `tableau` suivante :"
      ]
    },
    {
      "cell_type": "code",
      "execution_count": null,
      "id": "5c4e902c",
      "metadata": {
        "id": "5c4e902c",
        "outputId": "0ccdfda7-938e-4380-81c7-a9843d2fb1c9"
      },
      "outputs": [
        {
          "data": {
            "text/plain": [
              "[[1800, 21, 0],\n",
              " [1500, 54, 2],\n",
              " [2200, 28, 3],\n",
              " [3000, 37, 1],\n",
              " [2172, 37, 2],\n",
              " [5000, 32, 0],\n",
              " [1400, 23, 0],\n",
              " [1200, 25, 1],\n",
              " [1100, 19, 0],\n",
              " [1300, 31, 2]]"
            ]
          },
          "metadata": {},
          "output_type": "display_data"
        }
      ],
      "source": [
        "hugo = [1800, 21, 0]\n",
        "richard = [1500, 54, 2]\n",
        "emilie = [2200, 28, 3]\n",
        "pierre = [3000, 37, 1]\n",
        "paul = [2172, 37, 2]\n",
        "deborah = [5000, 32, 0]\n",
        "yohann = [1400, 23, 0]\n",
        "anne = [1200, 25, 1]\n",
        "thibault = [1100, 19, 0]\n",
        "emmanuel = [1300, 31, 2]\n",
        "\n",
        "tableau = [hugo, richard, emilie, pierre, paul, deborah,\n",
        "           yohann, anne, thibault, emmanuel]\n",
        "\n",
        "display(tableau)"
      ]
    },
    {
      "cell_type": "markdown",
      "id": "6025932d",
      "metadata": {
        "id": "6025932d"
      },
      "source": [
        "A partir de cette liste, créez un array que vous nommerez `data` :"
      ]
    },
    {
      "cell_type": "code",
      "source": [
        "import numpy as np\n",
        "\n",
        "# Chaque personne = une ligne avec [revenu, âge, sexe]\n",
        "hugo = [1800, 21, 0]\n",
        "richard = [1500, 54, 2]\n",
        "emilie = [2200, 28, 3]\n",
        "pierre = [3000, 37, 1]\n",
        "paul = [2172, 37, 2]\n",
        "deborah = [5000, 32, 0]\n",
        "yohann = [1400, 23, 0]\n",
        "anne = [1200, 25, 1]\n",
        "thibault = [1100, 19, 0]\n",
        "emmanuel = [1300, 31, 2]\n",
        "\n",
        "# ✅ Regrouper toutes les lignes dans une seule liste nommée 'tableau'\n",
        "tableau = [\n",
        "    hugo,\n",
        "    richard,\n",
        "    emilie,\n",
        "    pierre,\n",
        "    paul,\n",
        "    deborah,\n",
        "    yohann,\n",
        "    anne,\n",
        "    thibault,\n",
        "    emmanuel\n",
        "]\n",
        "\n",
        "# Convertir en array numpy\n",
        "data = np.array(tableau)\n",
        "\n",
        "# Affichage\n",
        "from IPython.display import display\n",
        "display(data)\n"
      ],
      "metadata": {
        "colab": {
          "base_uri": "https://localhost:8080/",
          "height": 187
        },
        "id": "rbsY4GpkzgDc",
        "outputId": "395058e0-946f-456b-9902-dbde3a176210"
      },
      "id": "rbsY4GpkzgDc",
      "execution_count": 17,
      "outputs": [
        {
          "output_type": "display_data",
          "data": {
            "text/plain": [
              "array([[1800,   21,    0],\n",
              "       [1500,   54,    2],\n",
              "       [2200,   28,    3],\n",
              "       [3000,   37,    1],\n",
              "       [2172,   37,    2],\n",
              "       [5000,   32,    0],\n",
              "       [1400,   23,    0],\n",
              "       [1200,   25,    1],\n",
              "       [1100,   19,    0],\n",
              "       [1300,   31,    2]])"
            ]
          },
          "metadata": {}
        }
      ]
    },
    {
      "cell_type": "markdown",
      "id": "4d00bdc9",
      "metadata": {
        "id": "4d00bdc9"
      },
      "source": [
        "data = texte en italique"
      ]
    },
    {
      "cell_type": "markdown",
      "id": "eaedaadf",
      "metadata": {
        "id": "eaedaadf"
      },
      "source": [
        "Paul souhaiterait contracter un prêt immobilier :\n",
        "- affichez les informations qui lui sont relatives. Pour rappel, Paul correspond à la 5ème ligne de nos données\n",
        "- calculez ses mensualités maximales, en sachant que le taux d'endettement maximum est de 35% (il ne pourra donc pas rembourser par mois plus de 35% de son revenu)."
      ]
    },
    {
      "cell_type": "code",
      "execution_count": 29,
      "id": "7923477b",
      "metadata": {
        "colab": {
          "base_uri": "https://localhost:8080/"
        },
        "id": "7923477b",
        "outputId": "71c64d6f-c4cf-4768-aae9-6709cd8fe177"
      },
      "outputs": [
        {
          "output_type": "stream",
          "name": "stdout",
          "text": [
            "Informations for Paul:\n",
            "[2172   37    2]\n",
            "\n",
            "Paul's maximum monthly payment: 760.20\n"
          ]
        }
      ],
      "source": [
        "# Display information for Paul (5th line, index 4)\n",
        "print(\"Informations for Paul:\")\n",
        "print(data[4])\n",
        "\n",
        "# Calculate maximum monthly payment (35% of income)\n",
        "paul_income = data[4, 0] # Get income for Paul (row 4, column 0)\n",
        "max_monthly_payment = paul_income * 0.35\n",
        "print(f\"\\nPaul's maximum monthly payment: {max_monthly_payment:.2f}\")"
      ]
    },
    {
      "cell_type": "markdown",
      "id": "8d53aba6",
      "metadata": {
        "id": "8d53aba6"
      },
      "source": [
        "Un nouveau client vient d'arriver, dont les informations sont les suivantes :"
      ]
    },
    {
      "cell_type": "code",
      "execution_count": null,
      "id": "bdfd0e22",
      "metadata": {
        "id": "bdfd0e22"
      },
      "outputs": [],
      "source": [
        "louise = [1900, 31, 1]"
      ]
    },
    {
      "cell_type": "markdown",
      "id": "80b6778a",
      "metadata": {
        "id": "80b6778a"
      },
      "source": [
        "Ajoutez ces informations à la suite de votre array `data` :"
      ]
    },
    {
      "cell_type": "code",
      "execution_count": 30,
      "id": "4fa46ed6",
      "metadata": {
        "colab": {
          "base_uri": "https://localhost:8080/"
        },
        "id": "4fa46ed6",
        "outputId": "43fd2a1e-8491-47be-f190-1782bd966390"
      },
      "outputs": [
        {
          "output_type": "stream",
          "name": "stdout",
          "text": [
            "Shape avant : (15, 3)\n",
            "Shape après : (11, 3)\n",
            "[[1800   21    0]\n",
            " [1500   54    2]\n",
            " [2200   28    3]\n",
            " [3000   37    1]\n",
            " [2172   37    2]\n",
            " [5000   32    0]\n",
            " [1400   23    0]\n",
            " [1200   25    1]\n",
            " [1100   19    0]\n",
            " [1300   31    2]\n",
            " [1900   31    1]]\n"
          ]
        }
      ],
      "source": [
        "import numpy as np\n",
        "\n",
        "# Exemple tableau avec plusieurs Louise en trop (15 lignes)\n",
        "data = np.array([\n",
        "    [1800, 21, 0],\n",
        "    [1500, 54, 2],\n",
        "    [2200, 28, 3],\n",
        "    [3000, 37, 1],\n",
        "    [2172, 37, 2],\n",
        "    [5000, 32, 0],\n",
        "    [1400, 23, 0],\n",
        "    [1200, 25, 1],\n",
        "    [1100, 19, 0],\n",
        "    [1300, 31, 2],\n",
        "    [1900, 31, 1],  # Louise\n",
        "    [1900, 31, 1],  # Louise en double\n",
        "    [1900, 31, 1],  # Louise en double\n",
        "    [1900, 31, 1],  # Louise en double\n",
        "    [1900, 31, 1]   # Louise en double\n",
        "])\n",
        "\n",
        "louise = np.array([1900, 31, 1])\n",
        "\n",
        "# Trouver les indices des lignes identiques à Louise\n",
        "mask_louise = np.all(data == louise, axis=1)\n",
        "\n",
        "# Indices des lignes qui ne sont pas Louise\n",
        "indices_non_louise = np.where(~mask_louise)[0]\n",
        "\n",
        "# Garder la première occurrence de Louise + toutes les autres lignes non Louise\n",
        "first_louise_index = np.where(mask_louise)[0][0]  # premier index de Louise\n",
        "\n",
        "indices_a_garder = np.concatenate(([first_louise_index], indices_non_louise))\n",
        "indices_a_garder = np.sort(indices_a_garder)\n",
        "\n",
        "# Nouveau tableau sans doublons de Louise\n",
        "data_sans_doublons = data[indices_a_garder]\n",
        "\n",
        "print(\"Shape avant :\", data.shape)\n",
        "print(\"Shape après :\", data_sans_doublons.shape)\n",
        "print(data_sans_doublons)\n"
      ]
    },
    {
      "cell_type": "markdown",
      "id": "e8b3fa7f",
      "metadata": {
        "id": "e8b3fa7f"
      },
      "source": [
        "Stockez enfin l'ensemble des informations de salaire de notre clientèle dans une variable `revenus` :"
      ]
    },
    {
      "cell_type": "code",
      "execution_count": 44,
      "id": "ff79413c",
      "metadata": {
        "colab": {
          "base_uri": "https://localhost:8080/"
        },
        "id": "ff79413c",
        "outputId": "c49b45b3-d3a0-49df-ad7a-b3794c5ece48"
      },
      "outputs": [
        {
          "output_type": "stream",
          "name": "stdout",
          "text": [
            "(array([[1800,   21,    0],\n",
            "       [1500,   54,    2],\n",
            "       [2200,   28,    3],\n",
            "       [3000,   37,    1],\n",
            "       [2172,   37,    2],\n",
            "       [5000,   32,    0],\n",
            "       [1400,   23,    0],\n",
            "       [1200,   25,    1],\n",
            "       [1100,   19,    0],\n",
            "       [1300,   31,    2],\n",
            "       [1900,   31,    1]]),)\n"
          ]
        }
      ],
      "source": [
        "data = np.array([\n",
        "    [1800, 21, 0],\n",
        "    [1500, 54, 2],\n",
        "    [2200, 28, 3],\n",
        "    [3000, 37, 1],\n",
        "    [2172, 37, 2],\n",
        "    [5000, 32, 0],\n",
        "    [1400, 23, 0],\n",
        "    [1200, 25, 1],\n",
        "    [1100, 19, 0],\n",
        "    [1300, 31, 2],\n",
        "    [1900, 31, 1]]),\n",
        "revenus = data\n",
        "print(revenus)"
      ]
    },
    {
      "cell_type": "markdown",
      "id": "66eb8d15",
      "metadata": {
        "id": "66eb8d15"
      },
      "source": [
        "Bien joué !\n",
        "\n",
        "Comme d'habitude, je vous propose de retrouver la correction ci-contre proposant une solution complète, que ce soit pour vérifier votre travail ou comprendre un point qui aurait été bloquant :\n",
        "[lien vers la solution](https://colab.research.google.com/github/OpenClassrooms-Student-Center/fr-4452741-decouvrez-les-librairies-python-pour-la-data-science/blob/main/notebooks/P1/P1C4%20-%20Transformez%20vos%20donn%C3%A9es%20en%20tableaux%20-%20correction.ipynb)."
      ]
    }
  ],
  "metadata": {
    "kernelspec": {
      "display_name": "Python 3 (ipykernel)",
      "language": "python",
      "name": "python3"
    },
    "language_info": {
      "codemirror_mode": {
        "name": "ipython",
        "version": 3
      },
      "file_extension": ".py",
      "mimetype": "text/x-python",
      "name": "python",
      "nbconvert_exporter": "python",
      "pygments_lexer": "ipython3",
      "version": "3.9.13"
    },
    "colab": {
      "provenance": []
    }
  },
  "nbformat": 4,
  "nbformat_minor": 5
}